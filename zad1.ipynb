{
 "cells": [
  {
   "cell_type": "markdown",
   "metadata": {},
   "source": [
    "# Plik został stworzony na potrzeby nauki języka Python oraz obsługi bibliotek takich jak: Pandas, NumPy, Matplolib, Seaborn, SciPy itp..\n"
   ]
  },
  {
   "cell_type": "markdown",
   "metadata": {},
   "source": [
    "## Zacznijmy najpierw od Pandas"
   ]
  },
  {
   "cell_type": "code",
   "execution_count": 14,
   "metadata": {},
   "outputs": [],
   "source": [
    "# zaimportuje teraz biblioteke która umozliwi mi dostep do danych\n",
    "import seaborn as sns\n",
    "import pandas as pd"
   ]
  },
  {
   "cell_type": "code",
   "execution_count": 3,
   "metadata": {},
   "outputs": [
    {
     "name": "stdout",
     "output_type": "stream",
     "text": [
      "['anagrams', 'anscombe', 'attention', 'brain_networks', 'car_crashes', 'diamonds', 'dots', 'dowjones', 'exercise', 'flights', 'fmri', 'geyser', 'glue', 'healthexp', 'iris', 'mpg', 'penguins', 'planets', 'seaice', 'taxis', 'tips', 'titanic', 'anagrams', 'anagrams', 'anscombe', 'anscombe', 'attention', 'attention', 'brain_networks', 'brain_networks', 'car_crashes', 'car_crashes', 'diamonds', 'diamonds', 'dots', 'dots', 'dowjones', 'dowjones', 'exercise', 'exercise', 'flights', 'flights', 'fmri', 'fmri', 'geyser', 'geyser', 'glue', 'glue', 'healthexp', 'healthexp', 'iris', 'iris', 'mpg', 'mpg', 'penguins', 'penguins', 'planets', 'planets', 'seaice', 'seaice', 'taxis', 'taxis', 'tips', 'tips', 'titanic', 'titanic', 'anagrams', 'anscombe', 'attention', 'brain_networks', 'car_crashes', 'diamonds', 'dots', 'dowjones', 'exercise', 'flights', 'fmri', 'geyser', 'glue', 'healthexp', 'iris', 'mpg', 'penguins', 'planets', 'seaice', 'taxis', 'tips', 'titanic']\n"
     ]
    }
   ],
   "source": [
    "dataset_names = sns.get_dataset_names()\n",
    "print(dataset_names)"
   ]
  },
  {
   "cell_type": "code",
   "execution_count": 18,
   "metadata": {},
   "outputs": [
    {
     "data": {
      "text/html": [
       "<style type=\"text/css\">\n",
       "#T_35efa td {\n",
       "  border: 1px solid black;\n",
       "}\n",
       "#T_35efa  th {\n",
       "  border: 1px solid black;\n",
       "}\n",
       "</style>\n",
       "<table id=\"T_35efa\">\n",
       "  <thead>\n",
       "    <tr>\n",
       "      <th class=\"blank level0\" >&nbsp;</th>\n",
       "      <th id=\"T_35efa_level0_col0\" class=\"col_heading level0 col0\" >sepal_length</th>\n",
       "      <th id=\"T_35efa_level0_col1\" class=\"col_heading level0 col1\" >sepal_width</th>\n",
       "      <th id=\"T_35efa_level0_col2\" class=\"col_heading level0 col2\" >petal_length</th>\n",
       "      <th id=\"T_35efa_level0_col3\" class=\"col_heading level0 col3\" >petal_width</th>\n",
       "      <th id=\"T_35efa_level0_col4\" class=\"col_heading level0 col4\" >species</th>\n",
       "    </tr>\n",
       "  </thead>\n",
       "  <tbody>\n",
       "    <tr>\n",
       "      <th id=\"T_35efa_level0_row0\" class=\"row_heading level0 row0\" >0</th>\n",
       "      <td id=\"T_35efa_row0_col0\" class=\"data row0 col0\" >5.100000</td>\n",
       "      <td id=\"T_35efa_row0_col1\" class=\"data row0 col1\" >3.500000</td>\n",
       "      <td id=\"T_35efa_row0_col2\" class=\"data row0 col2\" >1.400000</td>\n",
       "      <td id=\"T_35efa_row0_col3\" class=\"data row0 col3\" >0.200000</td>\n",
       "      <td id=\"T_35efa_row0_col4\" class=\"data row0 col4\" >setosa</td>\n",
       "    </tr>\n",
       "    <tr>\n",
       "      <th id=\"T_35efa_level0_row1\" class=\"row_heading level0 row1\" >1</th>\n",
       "      <td id=\"T_35efa_row1_col0\" class=\"data row1 col0\" >4.900000</td>\n",
       "      <td id=\"T_35efa_row1_col1\" class=\"data row1 col1\" >3.000000</td>\n",
       "      <td id=\"T_35efa_row1_col2\" class=\"data row1 col2\" >1.400000</td>\n",
       "      <td id=\"T_35efa_row1_col3\" class=\"data row1 col3\" >0.200000</td>\n",
       "      <td id=\"T_35efa_row1_col4\" class=\"data row1 col4\" >setosa</td>\n",
       "    </tr>\n",
       "    <tr>\n",
       "      <th id=\"T_35efa_level0_row2\" class=\"row_heading level0 row2\" >2</th>\n",
       "      <td id=\"T_35efa_row2_col0\" class=\"data row2 col0\" >4.700000</td>\n",
       "      <td id=\"T_35efa_row2_col1\" class=\"data row2 col1\" >3.200000</td>\n",
       "      <td id=\"T_35efa_row2_col2\" class=\"data row2 col2\" >1.300000</td>\n",
       "      <td id=\"T_35efa_row2_col3\" class=\"data row2 col3\" >0.200000</td>\n",
       "      <td id=\"T_35efa_row2_col4\" class=\"data row2 col4\" >setosa</td>\n",
       "    </tr>\n",
       "    <tr>\n",
       "      <th id=\"T_35efa_level0_row3\" class=\"row_heading level0 row3\" >3</th>\n",
       "      <td id=\"T_35efa_row3_col0\" class=\"data row3 col0\" >4.600000</td>\n",
       "      <td id=\"T_35efa_row3_col1\" class=\"data row3 col1\" >3.100000</td>\n",
       "      <td id=\"T_35efa_row3_col2\" class=\"data row3 col2\" >1.500000</td>\n",
       "      <td id=\"T_35efa_row3_col3\" class=\"data row3 col3\" >0.200000</td>\n",
       "      <td id=\"T_35efa_row3_col4\" class=\"data row3 col4\" >setosa</td>\n",
       "    </tr>\n",
       "    <tr>\n",
       "      <th id=\"T_35efa_level0_row4\" class=\"row_heading level0 row4\" >4</th>\n",
       "      <td id=\"T_35efa_row4_col0\" class=\"data row4 col0\" >5.000000</td>\n",
       "      <td id=\"T_35efa_row4_col1\" class=\"data row4 col1\" >3.600000</td>\n",
       "      <td id=\"T_35efa_row4_col2\" class=\"data row4 col2\" >1.400000</td>\n",
       "      <td id=\"T_35efa_row4_col3\" class=\"data row4 col3\" >0.200000</td>\n",
       "      <td id=\"T_35efa_row4_col4\" class=\"data row4 col4\" >setosa</td>\n",
       "    </tr>\n",
       "  </tbody>\n",
       "</table>\n"
      ],
      "text/plain": [
       "<pandas.io.formats.style.Styler at 0x149905418d0>"
      ]
     },
     "execution_count": 18,
     "metadata": {},
     "output_type": "execute_result"
    }
   ],
   "source": [
    "# Załaduj zestaw danych 'iris'\n",
    "df = sns.load_dataset('iris')\n",
    "df_head = df.head()\n",
    "\n",
    "# Stylizuj tabelę z obwódkami wokół komórek\n",
    "styled_df_head = df_head.style.set_table_styles(\n",
    "    [{'selector': 'td, th', 'props': [('border', '1px solid black')]}]\n",
    ")\n",
    "\n",
    "# Wyświetl stylizowaną tabelę\n",
    "styled_df_head"
   ]
  },
  {
   "cell_type": "code",
   "execution_count": 3,
   "metadata": {},
   "outputs": [
    {
     "name": "stdout",
     "output_type": "stream",
     "text": [
      "   total  speeding  alcohol  not_distracted  no_previous  ins_premium  \\\n",
      "0   18.8     7.332    5.640          18.048       15.040       784.55   \n",
      "1   18.1     7.421    4.525          16.290       17.014      1053.48   \n",
      "2   18.6     6.510    5.208          15.624       17.856       899.47   \n",
      "3   22.4     4.032    5.824          21.056       21.280       827.34   \n",
      "4   12.0     4.200    3.360          10.920       10.680       878.41   \n",
      "\n",
      "   ins_losses abbrev  \n",
      "0      145.08     AL  \n",
      "1      133.93     AK  \n",
      "2      110.35     AZ  \n",
      "3      142.39     AR  \n",
      "4      165.63     CA  \n",
      "<class 'pandas.core.frame.DataFrame'>\n",
      "RangeIndex: 51 entries, 0 to 50\n",
      "Data columns (total 8 columns):\n",
      " #   Column          Non-Null Count  Dtype  \n",
      "---  ------          --------------  -----  \n",
      " 0   total           51 non-null     float64\n",
      " 1   speeding        51 non-null     float64\n",
      " 2   alcohol         51 non-null     float64\n",
      " 3   not_distracted  51 non-null     float64\n",
      " 4   no_previous     51 non-null     float64\n",
      " 5   ins_premium     51 non-null     float64\n",
      " 6   ins_losses      51 non-null     float64\n",
      " 7   abbrev          51 non-null     object \n",
      "dtypes: float64(7), object(1)\n",
      "memory usage: 3.3+ KB\n",
      "None\n"
     ]
    }
   ],
   "source": [
    "# Załaduj zestaw danych 'ircar_crashes'\n",
    "df = sns.load_dataset('car_crashes')\n",
    "\n",
    "# Wyświetl pierwsze 5 wierszy\n",
    "print(df.head())\n",
    "\n",
    "# Wyświetl informacje o zestawie danych\n",
    "print(df.info())"
   ]
  },
  {
   "cell_type": "code",
   "execution_count": 5,
   "metadata": {},
   "outputs": [
    {
     "name": "stdout",
     "output_type": "stream",
     "text": [
      "   Unnamed: 0  id     diet  pulse    time  kind\n",
      "0           0   1  low fat     85   1 min  rest\n",
      "1           1   1  low fat     85  15 min  rest\n",
      "2           2   1  low fat     88  30 min  rest\n",
      "3           3   2  low fat     90   1 min  rest\n",
      "4           4   2  low fat     92  15 min  rest\n",
      "<class 'pandas.core.frame.DataFrame'>\n",
      "RangeIndex: 90 entries, 0 to 89\n",
      "Data columns (total 6 columns):\n",
      " #   Column      Non-Null Count  Dtype   \n",
      "---  ------      --------------  -----   \n",
      " 0   Unnamed: 0  90 non-null     int64   \n",
      " 1   id          90 non-null     int64   \n",
      " 2   diet        90 non-null     category\n",
      " 3   pulse       90 non-null     int64   \n",
      " 4   time        90 non-null     category\n",
      " 5   kind        90 non-null     category\n",
      "dtypes: category(3), int64(3)\n",
      "memory usage: 2.9 KB\n",
      "None\n"
     ]
    },
    {
     "data": {
      "text/plain": [
       "rest       30\n",
       "walking    30\n",
       "running    30\n",
       "Name: kind, dtype: int64"
      ]
     },
     "execution_count": 5,
     "metadata": {},
     "output_type": "execute_result"
    }
   ],
   "source": [
    "# Załaduj zestaw danych 'exercise'\n",
    "df = sns.load_dataset('exercise')\n",
    "\n",
    "# Wyświetl pierwsze 5 wierszy\n",
    "print(df.head())\n",
    "\n",
    "# Wyświetl informacje o zestawie danych\n",
    "print(df.info())\n",
    "\n",
    "df.kind.value_counts()"
   ]
  }
 ],
 "metadata": {
  "kernelspec": {
   "display_name": "Python 3",
   "language": "python",
   "name": "python3"
  },
  "language_info": {
   "codemirror_mode": {
    "name": "ipython",
    "version": 3
   },
   "file_extension": ".py",
   "mimetype": "text/x-python",
   "name": "python",
   "nbconvert_exporter": "python",
   "pygments_lexer": "ipython3",
   "version": "3.10.8"
  }
 },
 "nbformat": 4,
 "nbformat_minor": 2
}
